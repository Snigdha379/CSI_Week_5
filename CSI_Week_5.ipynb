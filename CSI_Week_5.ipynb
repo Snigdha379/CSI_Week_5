{
  "nbformat": 4,
  "nbformat_minor": 0,
  "metadata": {
    "colab": {
      "provenance": []
    },
    "kernelspec": {
      "name": "python3",
      "display_name": "Python 3"
    },
    "language_info": {
      "name": "python"
    }
  },
  "cells": [
    {
      "cell_type": "code",
      "execution_count": 3,
      "metadata": {
        "colab": {
          "base_uri": "https://localhost:8080/"
        },
        "id": "9waQ7zq6hFrI",
        "outputId": "8fed35ae-f2ac-44c8-8c97-065401113754"
      },
      "outputs": [
        {
          "output_type": "stream",
          "name": "stdout",
          "text": [
            "✅ Submission file 'submission.csv' has been created.\n"
          ]
        }
      ],
      "source": [
        "import pandas as pd\n",
        "from sklearn.ensemble import RandomForestRegressor\n",
        "from sklearn.preprocessing import LabelEncoder\n",
        "\n",
        "train = pd.read_csv('train.csv')\n",
        "test = pd.read_csv('test.csv')\n",
        "sample = pd.read_csv('sample_submission.csv')\n",
        "\n",
        "train_ID = train['Id']\n",
        "test_ID = test['Id']\n",
        "train.drop(['Id'], axis=1, inplace=True)\n",
        "test.drop(['Id'], axis=1, inplace=True)\n",
        "\n",
        "y = train['SalePrice']\n",
        "X = train.drop('SalePrice', axis=1)\n",
        "\n",
        "full_data = pd.concat([X, test], axis=0)\n",
        "\n",
        "for col in full_data.columns:\n",
        "    if full_data[col].dtype == 'object':\n",
        "        full_data[col] = full_data[col].fillna('Missing')\n",
        "    else:\n",
        "        full_data[col] = full_data[col].fillna(full_data[col].median())\n",
        "\n",
        "label_encoders = {}\n",
        "for col in full_data.select_dtypes(include='object').columns:\n",
        "    le = LabelEncoder()\n",
        "    full_data[col] = le.fit_transform(full_data[col])\n",
        "    label_encoders[col] = le\n",
        "\n",
        "X = full_data.iloc[:len(train)]\n",
        "X_test = full_data.iloc[len(train):]\n",
        "\n",
        "model = RandomForestRegressor(n_estimators=100, random_state=42)\n",
        "model.fit(X, y)\n",
        "predictions = model.predict(X_test)\n",
        "\n",
        "submission = pd.DataFrame({\n",
        "    'Id': test_ID,\n",
        "    'SalePrice': predictions\n",
        "})\n",
        "submission.to_csv('submission.csv', index=False)\n",
        "\n",
        "print(\"✅ Submission file 'submission.csv' has been created.\")\n"
      ]
    }
  ]
}